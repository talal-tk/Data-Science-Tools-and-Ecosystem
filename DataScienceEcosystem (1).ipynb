{
 "cells": [
  {
   "cell_type": "markdown",
   "id": "e986ccf1-cd95-4ef8-804f-42420199a5d5",
   "metadata": {},
   "source": [
    "# DataScience Tool and Ecosystem"
   ]
  },
  {
   "cell_type": "markdown",
   "id": "22cf8336-fc5e-40f9-8e7e-f1babdde325c",
   "metadata": {},
   "source": [
    "## introduction \n",
    "In this notebook, Data Science Tools and Ecosystem are summarized.\n"
   ]
  },
  {
   "cell_type": "markdown",
   "id": "54499fa1-8267-489b-a8dd-61408910c1dc",
   "metadata": {},
   "source": [
    "## Some of the popular languages that Data Scientists use are:\n",
    "1. Python\n",
    "2. Sql\n",
    "3. R\n"
   ]
  },
  {
   "cell_type": "markdown",
   "id": "8eb3d5e6-f6fe-4861-a2e1-29c48c46e7e1",
   "metadata": {},
   "source": [
    "## Some of the commonly used libraries used by Data Scientists include:\n",
    "1. pandas\n",
    "2. NumPy\n",
    "3. tensorFlow"
   ]
  },
  {
   "cell_type": "markdown",
   "id": "1c3d5c7a-d2e4-4fd0-8ef6-62c0a2325f54",
   "metadata": {},
   "source": [
    "## Data Science Tools\n",
    "\n",
    "| Data Science Tools       |\n",
    "|--------------------------|\n",
    "| Jupyter Notebook         |\n",
    "| RStudio                  |\n",
    "| Apache Zeppelin          |\n"
   ]
  },
  {
   "cell_type": "markdown",
   "id": "229f0645-8719-4c14-8bbe-9abc38fada3c",
   "metadata": {},
   "source": [
    "## Data sience Tools \n",
    "\n",
    "| Data ScienceTools  |\n",
    "|--------------------|\n",
    "| Jupyter Notebook   |\n",
    "| Rstudio            |\n",
    "| Apache Zeppelin    |"
   ]
  },
  {
   "cell_type": "markdown",
   "id": "c2dc0a3e-6ef3-43d7-b7d1-6fe90249e095",
   "metadata": {},
   "source": [
    "### Arithmetic Expression Examples\n",
    "\n",
    "Below are a few examples of evaluating arithmetic expressions in Python.\n"
   ]
  },
  {
   "cell_type": "markdown",
   "id": "dad2a2a2-b9e5-4493-adc6-40534a0c41f5",
   "metadata": {},
   "source": [
    "### Arithmeic Expression Examples\n",
    "Below are a few exaples of evaluating arithmetic expressions in python"
   ]
  },
  {
   "cell_type": "code",
   "execution_count": 23,
   "id": "19cb39d3-6da6-4ca1-b5ed-f5815d5a132c",
   "metadata": {},
   "outputs": [
    {
     "data": {
      "text/plain": [
       "17"
      ]
     },
     "execution_count": 23,
     "metadata": {},
     "output_type": "execute_result"
    }
   ],
   "source": [
    "# This is a simple arithmetic expression to multiply then add integers\n",
    "result = (3 * 4) + 5\n",
    "result\n"
   ]
  },
  {
   "cell_type": "code",
   "execution_count": 29,
   "id": "e1d4188c-fafb-4b18-a036-0d0ebc856b30",
   "metadata": {},
   "outputs": [
    {
     "data": {
      "text/plain": [
       "17"
      ]
     },
     "execution_count": 29,
     "metadata": {},
     "output_type": "execute_result"
    }
   ],
   "source": [
    "# This is a simple arithmetic expresion to multiply then add integers\n",
    "result = (3 * 4)+5\n",
    "result"
   ]
  },
  {
   "cell_type": "code",
   "execution_count": 31,
   "id": "4f6e16e8-c63e-4611-bde9-4fb5b3c8e513",
   "metadata": {},
   "outputs": [
    {
     "data": {
      "text/plain": [
       "3.3333333333333335"
      ]
     },
     "execution_count": 31,
     "metadata": {},
     "output_type": "execute_result"
    }
   ],
   "source": [
    "# This will convert 200 minutes to hours by dividing by 60\n",
    "minutes = 200\n",
    "hours = minutes / 60\n",
    "hours\n"
   ]
  },
  {
   "cell_type": "code",
   "execution_count": 33,
   "id": "003d5cec-91f0-4520-8c78-35169ddac30c",
   "metadata": {},
   "outputs": [
    {
     "data": {
      "text/plain": [
       "3.3333333333333335"
      ]
     },
     "execution_count": 33,
     "metadata": {},
     "output_type": "execute_result"
    }
   ],
   "source": [
    "# THis will convert 200 minutes to hours by dividing by 60\n",
    "minutes = 200\n",
    "hours = minutes /60\n",
    "hours"
   ]
  },
  {
   "cell_type": "markdown",
   "id": "3f86bcef-38f6-4eab-96df-32c8fe3dfb4b",
   "metadata": {},
   "source": [
    "**Objectives:**\n",
    "- List popular languages for Data Science\n",
    "- List commonly used libraries in Data Science\n",
    "- Demonstrate basic arithmetic expressions in Python\n",
    "- Convert time from minutes to hours\n",
    "- Create tables and lists using Markdown\n",
    "\n"
   ]
  },
  {
   "cell_type": "markdown",
   "id": "3bd6d2c7-e985-418d-ad06-4ae175c6d914",
   "metadata": {},
   "source": [
    "## Author\n",
    "Talal Alshehri"
   ]
  },
  {
   "cell_type": "code",
   "execution_count": null,
   "id": "7e4bafe0-6cb8-4900-b063-a6ec0752142d",
   "metadata": {},
   "outputs": [],
   "source": []
  }
 ],
 "metadata": {
  "kernelspec": {
   "display_name": "Python 3 (ipykernel)",
   "language": "python",
   "name": "python3"
  },
  "language_info": {
   "codemirror_mode": {
    "name": "ipython",
    "version": 3
   },
   "file_extension": ".py",
   "mimetype": "text/x-python",
   "name": "python",
   "nbconvert_exporter": "python",
   "pygments_lexer": "ipython3",
   "version": "3.12.4"
  }
 },
 "nbformat": 4,
 "nbformat_minor": 5
}
